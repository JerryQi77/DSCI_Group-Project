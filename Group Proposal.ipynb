{
 "cells": [
  {
   "cell_type": "markdown",
   "id": "2a05d589",
   "metadata": {},
   "source": [
    "# Basketball Lineup Plus-minus Prediction Via Regression\n"
   ]
  },
  {
   "cell_type": "markdown",
   "id": "9ed76845",
   "metadata": {},
   "source": [
    "##### Kole Laviolette 72088131\n",
    "##### Jerry Qi 73382533\n",
    "##### Junru Chen 74767625"
   ]
  },
  {
   "cell_type": "markdown",
   "id": "0b1d0191",
   "metadata": {},
   "source": [
    "## Introduction \n",
    "\n",
    "In basketball, there is a statistic called the “plus-minus” (short-handed to “+/-”) that refers to the sum of all of the points scored while they were on the court, minus the sum of all the points they let the opposing team score. This statistic is a good quantifiable value for the overall effect of a line in a basketball game, and it can be used to determine the best line for a team to play in a game. In our project, our group is trying to approximate the plus-minus of a certain line in a basketball game using the general statistics of a line during a game.\n",
    "\n",
    "Our dataset contains the statistics of various NBA lineups. In every row of our dataset, there are the team names, players in a certain lineup, and all recorded statistics during the game such as the points scored, three-point shots made, minutes played, etc."
   ]
  },
  {
   "cell_type": "markdown",
   "id": "6af14b33",
   "metadata": {},
   "source": [
    "## Preliminary exploratory data analysis"
   ]
  },
  {
   "cell_type": "code",
   "execution_count": 10,
   "id": "76590871",
   "metadata": {},
   "outputs": [
    {
     "name": "stderr",
     "output_type": "stream",
     "text": [
      "── \u001b[1mAttaching packages\u001b[22m ────────────────────────────────────── tidymodels 1.0.0 ──\n",
      "\n",
      "\u001b[32m✔\u001b[39m \u001b[34mbroom       \u001b[39m 1.0.0     \u001b[32m✔\u001b[39m \u001b[34mrsample     \u001b[39m 1.0.0\n",
      "\u001b[32m✔\u001b[39m \u001b[34mdials       \u001b[39m 1.0.0     \u001b[32m✔\u001b[39m \u001b[34mtune        \u001b[39m 1.0.0\n",
      "\u001b[32m✔\u001b[39m \u001b[34minfer       \u001b[39m 1.0.2     \u001b[32m✔\u001b[39m \u001b[34mworkflows   \u001b[39m 1.0.0\n",
      "\u001b[32m✔\u001b[39m \u001b[34mmodeldata   \u001b[39m 1.0.0     \u001b[32m✔\u001b[39m \u001b[34mworkflowsets\u001b[39m 1.0.0\n",
      "\u001b[32m✔\u001b[39m \u001b[34mparsnip     \u001b[39m 1.0.0     \u001b[32m✔\u001b[39m \u001b[34myardstick   \u001b[39m 1.0.0\n",
      "\u001b[32m✔\u001b[39m \u001b[34mrecipes     \u001b[39m 1.0.1     \n",
      "\n",
      "── \u001b[1mConflicts\u001b[22m ───────────────────────────────────────── tidymodels_conflicts() ──\n",
      "\u001b[31m✖\u001b[39m \u001b[34mscales\u001b[39m::\u001b[32mdiscard()\u001b[39m masks \u001b[34mpurrr\u001b[39m::discard()\n",
      "\u001b[31m✖\u001b[39m \u001b[34mdplyr\u001b[39m::\u001b[32mfilter()\u001b[39m   masks \u001b[34mstats\u001b[39m::filter()\n",
      "\u001b[31m✖\u001b[39m \u001b[34mrecipes\u001b[39m::\u001b[32mfixed()\u001b[39m  masks \u001b[34mstringr\u001b[39m::fixed()\n",
      "\u001b[31m✖\u001b[39m \u001b[34mdplyr\u001b[39m::\u001b[32mlag()\u001b[39m      masks \u001b[34mstats\u001b[39m::lag()\n",
      "\u001b[31m✖\u001b[39m \u001b[34myardstick\u001b[39m::\u001b[32mspec()\u001b[39m masks \u001b[34mreadr\u001b[39m::spec()\n",
      "\u001b[31m✖\u001b[39m \u001b[34mrecipes\u001b[39m::\u001b[32mstep()\u001b[39m   masks \u001b[34mstats\u001b[39m::step()\n",
      "\u001b[34m•\u001b[39m Dig deeper into tidy modeling with R at \u001b[32mhttps://www.tmwr.org\u001b[39m\n",
      "\n"
     ]
    }
   ],
   "source": [
    "library(tidyverse)\n",
    "library(tidymodels)"
   ]
  },
  {
   "cell_type": "code",
   "execution_count": 11,
   "id": "a4d3747c",
   "metadata": {},
   "outputs": [
    {
     "name": "stderr",
     "output_type": "stream",
     "text": [
      "\u001b[1mRows: \u001b[22m\u001b[34m250\u001b[39m \u001b[1mColumns: \u001b[22m\u001b[34m30\u001b[39m\n",
      "\u001b[36m──\u001b[39m \u001b[1mColumn specification\u001b[22m \u001b[36m────────────────────────────────────────────────────────\u001b[39m\n",
      "\u001b[1mDelimiter:\u001b[22m \",\"\n",
      "\u001b[31mchr\u001b[39m  (6): TEAM, First Player, Second Player, Third Player, Fourth Player, Fi...\n",
      "\u001b[32mdbl\u001b[39m (24): ...1, GP, MIN, PTS, FGM, FGA, FG%, 3PM, 3PA, 3P%, FTM, FTA, FT%, O...\n",
      "\n",
      "\u001b[36mℹ\u001b[39m Use `spec()` to retrieve the full column specification for this data.\n",
      "\u001b[36mℹ\u001b[39m Specify the column types or set `show_col_types = FALSE` to quiet this message.\n"
     ]
    }
   ],
   "source": [
    "lineup_stat <- read_csv(\"https://raw.githubusercontent.com/JerryQi77/DSCI_Group-Project/main/DSCI_Group_project?token=GHSAT0AAAAAABZQJWZPOUAKKT7OY7UAZ33IY2546GQ\")\n",
    "\n",
    "colnames(lineup_stat)[colnames(lineup_stat) == \"+/-\"] <- \"P_M\"\n",
    "colnames(lineup_stat)[colnames(lineup_stat) == \"FG%\"] <- \"FGP\"\n",
    "lineup_stat <- select(lineup_stat, GP:P_M)\n",
    "\n",
    "lineup_stat <- lineup_stat |>\n",
    "                 mutate(PIR = PTS + REB + AST + STL + BLK + PFD + FGM - FGA + FTM - FTA - TOV - BLKA - PF) |>\n",
    "                 mutate(TSP = PTS / ((2 * FGA) + (0.88 * FTA))) |>\n",
    "                 mutate(PPP = PTS / (FGA + (0.44 * FTA) + TOV))\n",
    "\n",
    "lineup_split <- initial_split(lineup_stat, prop = 0.75, strata = P_M)\n",
    "lineup_train <- training(lineup_split)\n",
    "lineup_test <- testing(lineup_split)\n",
    "\n",
    "pts_plot <- ggplot(lineup_train, aes(x = PTS, y = P_M)) + geom_point() +\n",
    "            xlab(\"Points\") + ylab(\"Plus Minus\") + theme(text = element_text(size=16))\n",
    "\n",
    "fgp_plot <- ggplot(lineup_train, aes(x = FGP, y = P_M)) + geom_point() +\n",
    "            xlab(\"Field Goals Percentage\") + ylab(\"Plus Minus\") + theme(text = element_text(size=16))\n",
    "\n",
    "pir_plot <- ggplot(lineup_train, aes(x = PIR, y = P_M)) + geom_point() +\n",
    "            xlab(\"Performance index rating\") + ylab(\"Plus Minus\") + theme(text = element_text(size=16))\n",
    "\n",
    "tsp_plot <- ggplot(lineup_train, aes(x = TSP, y = P_M)) + geom_point() +\n",
    "            xlab(\"True Shooting Percentage\") + ylab(\"Plus Minus\") + theme(text = element_text(size=16))\n",
    "\n",
    "tsp_plot <- ggplot(lineup_train, aes(x = PPP, y = P_M)) + geom_point() +\n",
    "            xlab(\"Points per possession\") + ylab(\"Plus Minus\") + theme(text = element_text(size=16))"
   ]
  },
  {
   "cell_type": "markdown",
   "id": "818e8103",
   "metadata": {},
   "source": [
    "## Methods\n"
   ]
  },
  {
   "cell_type": "markdown",
   "id": "627355e0",
   "metadata": {},
   "source": [
    "We plan to use regression five times using different predictors and find out which is the best at predicting the plus-minus of a line.\n",
    "\n",
    "##### The predictors we plan to use are listed below:\n",
    "\n",
    "Normally people think the more points players get, or the higher hit rate players have, the more positive effect they will have so we will use PTS and FG% as two predictors.\n",
    "\n",
    "For people who know more about basketball, they will consider Performance Index Ranking (PIR) (an addition index consisting of positive actions minus negative actions), True Shooting Percentage (TSP) (an index that balances points, field goal attempts, and free throw attempts), Points Per Possession (PPP) (an index calculates points per possession is an advanced statistic that attempts to measure the number of points a player generates for each possession of the ball) can influence the effect of players on the game, so we will use these three indexes as predictors.\n",
    "\n",
    "Performance Index Ranking (PIR) is calculated using the following equation:\n",
    "\n",
    "(Points + Rebounds + Assists + Steals + Blocks + Fouls Drawn) - (Missed Field Goals + Missed Free Throws + Turnovers + Shots Rejected + Fouls Committed)\n",
    "\n",
    "We will visualized the data using a scatterplot with one of out five predictors on the x-axis, and the plus-minus of a line on the y-axis."
   ]
  },
  {
   "cell_type": "markdown",
   "id": "fa931420",
   "metadata": {},
   "source": [
    "## Expected outcomes and significance:"
   ]
  },
  {
   "cell_type": "markdown",
   "id": "b22dc6f9-fd4f-4dbc-a2bd-2dc2ab98c63f",
   "metadata": {},
   "source": [
    "During our project, we are expecting to find which one of our five predictors is the best at predicting the plus-minus of a line and therefore the overall effect the line has in a game. This information could give NBA Scouts and General Managers more insight into a player's performance and allow them to trade or draft players most beneficial to their team.\n",
    "\n",
    "Some future questions that may be asked after our initial question is answered are:\n",
    "\n",
    "- Is the Euroleague’s Performance Index Rating an accurate representation of the performance of a lineup in a game? It is used to scout and draft players in the Euroleague and with our initial question answered, we may be able to verify the accuracy of this index\n",
    "\n",
    "- Does this reflect the overall teamwork between players or is this a reflection of the individual skills of each player on a team. Answering this question can show the effect a single \"superstar\" player can have on a single lineup."
   ]
  }
 ],
 "metadata": {
  "kernelspec": {
   "display_name": "R",
   "language": "R",
   "name": "ir"
  },
  "language_info": {
   "codemirror_mode": "r",
   "file_extension": ".r",
   "mimetype": "text/x-r-source",
   "name": "R",
   "pygments_lexer": "r",
   "version": "4.1.3"
  }
 },
 "nbformat": 4,
 "nbformat_minor": 5
}
