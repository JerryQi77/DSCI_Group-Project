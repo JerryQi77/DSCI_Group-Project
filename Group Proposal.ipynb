{
 "cells": [
  {
   "cell_type": "markdown",
   "id": "296812ae-8771-43f2-b1bc-2bae329a6488",
   "metadata": {},
   "source": [
    "# Basketball Lineup Plus-minus Prediction Via Regression\n"
   ]
  },
  {
   "cell_type": "markdown",
   "id": "eaa2fd86-f29d-4d77-9513-096c1f7c2f57",
   "metadata": {},
   "source": [
    "##### Kole Laviolette 72088131\n",
    "##### Jerry Qi 73382533\n",
    "##### Junru Chen 74767625"
   ]
  },
  {
   "cell_type": "markdown",
   "id": "a6033b05-c472-49fd-8bb1-d82e4845b573",
   "metadata": {},
   "source": [
    "## Introduction \n",
    "\n",
    "In basketball, there is a statistic called the “plus-minus” (short-handed to “+/-”) that refers to the sum of all of the points scored while they were on the court, minus the sum of all the points they let the opposing team score. This statistic is a good quantifiable value for the overall effect of a line in a basketball game, and it can be used to determine the best line for a team to play in a game. In our project, our group is trying to approximate the plus-minus of a certain line in a basketball game using the general statistics of a line during a game.\n",
    "\n",
    "Our dataset contains the statistics of various NBA lineups. In every row of our dataset, there are the team names, players in a certain lineup, and all recorded statistics during the game such as the points scored, three-point shots made, minutes played, etc."
   ]
  },
  {
   "cell_type": "markdown",
   "id": "e3530180-96f6-42b9-bf98-31a4d6745ec7",
   "metadata": {},
   "source": [
    "## Preliminary exploratory data analysis"
   ]
  },
  {
   "cell_type": "code",
   "execution_count": 2,
   "id": "56538496-1dfb-4d3f-ae47-eac9d55945d1",
   "metadata": {},
   "outputs": [
    {
     "name": "stderr",
     "output_type": "stream",
     "text": [
      "── \u001b[1mAttaching packages\u001b[22m ─────────────────────────────────────── tidyverse 1.3.1 ──\n",
      "\n",
      "\u001b[32m✔\u001b[39m \u001b[34mggplot2\u001b[39m 3.3.6     \u001b[32m✔\u001b[39m \u001b[34mpurrr  \u001b[39m 0.3.4\n",
      "\u001b[32m✔\u001b[39m \u001b[34mtibble \u001b[39m 3.1.7     \u001b[32m✔\u001b[39m \u001b[34mdplyr  \u001b[39m 1.0.9\n",
      "\u001b[32m✔\u001b[39m \u001b[34mtidyr  \u001b[39m 1.2.0     \u001b[32m✔\u001b[39m \u001b[34mstringr\u001b[39m 1.4.0\n",
      "\u001b[32m✔\u001b[39m \u001b[34mreadr  \u001b[39m 2.1.2     \u001b[32m✔\u001b[39m \u001b[34mforcats\u001b[39m 0.5.1\n",
      "\n",
      "── \u001b[1mConflicts\u001b[22m ────────────────────────────────────────── tidyverse_conflicts() ──\n",
      "\u001b[31m✖\u001b[39m \u001b[34mdplyr\u001b[39m::\u001b[32mfilter()\u001b[39m masks \u001b[34mstats\u001b[39m::filter()\n",
      "\u001b[31m✖\u001b[39m \u001b[34mdplyr\u001b[39m::\u001b[32mlag()\u001b[39m    masks \u001b[34mstats\u001b[39m::lag()\n",
      "\n"
     ]
    }
   ],
   "source": [
    "library(tidyverse)"
   ]
  },
  {
   "cell_type": "code",
   "execution_count": 8,
   "id": "c67cf1d6-7785-4945-a0ab-1b9b5c2eb6d3",
   "metadata": {},
   "outputs": [
    {
     "name": "stderr",
     "output_type": "stream",
     "text": [
      "\u001b[1mRows: \u001b[22m\u001b[34m250\u001b[39m \u001b[1mColumns: \u001b[22m\u001b[34m30\u001b[39m\n",
      "\u001b[36m──\u001b[39m \u001b[1mColumn specification\u001b[22m \u001b[36m────────────────────────────────────────────────────────\u001b[39m\n",
      "\u001b[1mDelimiter:\u001b[22m \",\"\n",
      "\u001b[31mchr\u001b[39m  (6): TEAM, First Player, Second Player, Third Player, Fourth Player, Fi...\n",
      "\u001b[32mdbl\u001b[39m (24): ...1, GP, MIN, PTS, FGM, FGA, FG%, 3PM, 3PA, 3P%, FTM, FTA, FT%, O...\n",
      "\n",
      "\u001b[36mℹ\u001b[39m Use `spec()` to retrieve the full column specification for this data.\n",
      "\u001b[36mℹ\u001b[39m Specify the column types or set `show_col_types = FALSE` to quiet this message.\n"
     ]
    },
    {
     "name": "stdout",
     "output_type": "stream",
     "text": [
      "Rows: 250\n",
      "Columns: 30\n",
      "$ ...1            \u001b[3m\u001b[90m<dbl>\u001b[39m\u001b[23m 0, 1, 2, 3, 4, 5, 6, 7, 8, 9, 10, 11, 12, 13, 14, 15, …\n",
      "$ TEAM            \u001b[3m\u001b[90m<chr>\u001b[39m\u001b[23m \"ORL\", \"MIN\", \"WAS\", \"LAC\", \"CLE\", \"CHA\", \"PHX\", \"MIN\"…\n",
      "$ GP              \u001b[3m\u001b[90m<dbl>\u001b[39m\u001b[23m 19, 41, 69, 46, 27, 47, 7, 38, 12, 16, 6, 28, 7, 28, 1…\n",
      "$ MIN             \u001b[3m\u001b[90m<dbl>\u001b[39m\u001b[23m 21.6, 21.5, 19.5, 18.9, 16.8, 16.7, 16.4, 15.7, 15.1, …\n",
      "$ PTS             \u001b[3m\u001b[90m<dbl>\u001b[39m\u001b[23m 52.3, 46.3, 45.4, 44.0, 40.9, 36.2, 38.3, 34.8, 40.2, …\n",
      "$ FGM             \u001b[3m\u001b[90m<dbl>\u001b[39m\u001b[23m 20.4, 17.6, 17.7, 16.2, 15.3, 13.3, 14.4, 13.3, 14.5, …\n",
      "$ FGA             \u001b[3m\u001b[90m<dbl>\u001b[39m\u001b[23m 42.3, 37.2, 35.9, 31.6, 31.1, 29.4, 29.9, 27.0, 27.7, …\n",
      "$ `FG%`           \u001b[3m\u001b[90m<dbl>\u001b[39m\u001b[23m 48.2, 47.4, 49.4, 51.3, 49.0, 45.1, 48.3, 49.5, 52.4, …\n",
      "$ `3PM`           \u001b[3m\u001b[90m<dbl>\u001b[39m\u001b[23m 4.3, 3.2, 4.1, 3.8, 5.0, 3.3, 2.7, 2.2, 5.2, 2.3, 2.5,…\n",
      "$ `3PA`           \u001b[3m\u001b[90m<dbl>\u001b[39m\u001b[23m 10.9, 9.1, 10.1, 8.5, 11.5, 9.3, 7.9, 5.8, 10.6, 6.4, …\n",
      "$ `3P%`           \u001b[3m\u001b[90m<dbl>\u001b[39m\u001b[23m 39.6, 35.5, 40.3, 44.0, 43.9, 35.3, 34.5, 38.2, 48.8, …\n",
      "$ FTM             \u001b[3m\u001b[90m<dbl>\u001b[39m\u001b[23m 7.3, 7.9, 5.9, 7.8, 5.4, 6.3, 6.7, 5.9, 6.0, 3.9, 6.2,…\n",
      "$ FTA             \u001b[3m\u001b[90m<dbl>\u001b[39m\u001b[23m 8.9, 10.0, 7.8, 10.8, 7.1, 7.8, 9.4, 7.1, 7.8, 4.8, 7.…\n",
      "$ `FT%`           \u001b[3m\u001b[90m<dbl>\u001b[39m\u001b[23m 81.2, 78.2, 76.3, 72.3, 75.1, 81.2, 71.2, 83.4, 77.4, …\n",
      "$ OREB            \u001b[3m\u001b[90m<dbl>\u001b[39m\u001b[23m 4.7, 4.8, 4.0, 3.4, 3.7, 3.0, 3.1, 3.3, 3.8, 3.6, 2.7,…\n",
      "$ DREB            \u001b[3m\u001b[90m<dbl>\u001b[39m\u001b[23m 15.8, 14.2, 13.5, 13.9, 11.2, 12.0, 11.9, 10.9, 11.3, …\n",
      "$ REB             \u001b[3m\u001b[90m<dbl>\u001b[39m\u001b[23m 20.5, 19.0, 17.5, 17.3, 14.9, 15.0, 15.0, 14.1, 15.1, …\n",
      "$ AST             \u001b[3m\u001b[90m<dbl>\u001b[39m\u001b[23m 12.1, 11.2, 10.9, 10.6, 9.6, 8.7, 7.0, 8.3, 8.4, 6.2, …\n",
      "$ TOV             \u001b[3m\u001b[90m<dbl>\u001b[39m\u001b[23m 5.2, 6.4, 5.3, 5.1, 4.4, 4.1, 4.6, 4.6, 4.5, 4.3, 4.8,…\n",
      "$ STL             \u001b[3m\u001b[90m<dbl>\u001b[39m\u001b[23m 3.6, 3.2, 3.7, 3.7, 2.7, 3.1, 2.6, 2.2, 3.5, 2.1, 2.3,…\n",
      "$ BLK             \u001b[3m\u001b[90m<dbl>\u001b[39m\u001b[23m 2.2, 2.0, 1.4, 2.0, 1.4, 1.6, 0.7, 1.4, 1.5, 2.1, 0.7,…\n",
      "$ BLKA            \u001b[3m\u001b[90m<dbl>\u001b[39m\u001b[23m 2.4, 2.2, 2.0, 1.1, 1.4, 2.2, 1.9, 1.5, 1.4, 1.2, 1.7,…\n",
      "$ PF              \u001b[3m\u001b[90m<dbl>\u001b[39m\u001b[23m 8.0, 7.8, 7.1, 6.2, 5.6, 4.6, 8.4, 5.3, 3.5, 5.3, 6.3,…\n",
      "$ PFD             \u001b[3m\u001b[90m<dbl>\u001b[39m\u001b[23m 6.9, 8.9, 7.1, 9.3, 7.1, 6.4, 6.9, 6.2, 6.4, 4.8, 5.7,…\n",
      "$ `+/-`           \u001b[3m\u001b[90m<dbl>\u001b[39m\u001b[23m 0.8, -0.9, 3.4, 5.4, 2.2, 1.7, 0.1, 0.6, 9.8, 0.4, 0.5…\n",
      "$ `First Player`  \u001b[3m\u001b[90m<chr>\u001b[39m\u001b[23m \"E.Fournier\", \"G.Dieng\", \"B.Beal\", \"B.Griffin\", \"K.Irv…\n",
      "$ `Second Player` \u001b[3m\u001b[90m<chr>\u001b[39m\u001b[23m \"A.Gordon\", \"Z.LaVine\", \"M.Gortat\", \"D.Jordan\", \"L.Jam…\n",
      "$ `Third Player`  \u001b[3m\u001b[90m<chr>\u001b[39m\u001b[23m \"E.Payton\", \"R.Rubio\", \"M.Morris\", \"L.Mbah\", \"K.Love\",…\n",
      "$ `Fourth Player` \u001b[3m\u001b[90m<chr>\u001b[39m\u001b[23m \"T.Ross\", \"K.Towns\", \"O.Porter\", \"C.Paul\", \"J.Smith\", …\n",
      "$ `Fifth Player`  \u001b[3m\u001b[90m<chr>\u001b[39m\u001b[23m \"N.Vucevic\", \"A.Wiggins\", \"J.Wall\", \"J.Redick\", \"T.Tho…\n"
     ]
    }
   ],
   "source": [
    "basketball_stats <- read_csv(\"https://raw.githubusercontent.com/JerryQi77/DSCI_Group-Project/main/DSCI_Group_project?token=GHSAT0AAAAAABZODHTKVNKOFM3OEZ5FUC7IY254P6A\")\n",
    "\n",
    "glimpse(basketball_stats)"
   ]
  },
  {
   "cell_type": "markdown",
   "id": "cc946b46-9cf6-4643-8d81-c90c3799f13d",
   "metadata": {},
   "source": [
    "## Methods\n"
   ]
  },
  {
   "cell_type": "markdown",
   "id": "91485ccb-8d36-4123-9c75-2a3b11581b70",
   "metadata": {},
   "source": [
    "We plan to use regression five times using different predictors and find out which is the best at predicting the plus-minus of a line.\n",
    "\n",
    "##### The predictors we plan to use are listed below:\n",
    "\n",
    "Normally people think the more points players get, or the higher hit rate players have, the more positive effect they will have so we will use PTS and FG% as two predictors.\n",
    "\n",
    "For people who know more about basketball, they will consider Performance Index Ranking (PIR) (an addition index consisting of positive actions minus negative actions), True Shooting Percentage (TSP) (an index that balances points, field goal attempts, and free throw attempts), Points Per Possession (PPP) (an index calculates points per possession is an advanced statistic that attempts to measure the number of points a player generates for each possession of the ball) can influence the effect of players on the game, so we will use these three indexes as predictors.\n",
    "\n",
    "Performance Index Ranking (PIR) is calculated using the following equation:\n",
    "\n",
    "(Points + Rebounds + Assists + Steals + Blocks + Fouls Drawn) - (Missed Field Goals + Missed Free Throws + Turnovers + Shots Rejected + Fouls Committed)\n",
    "\n",
    "We will visualized the data using a scatterplot with one of out five predictors on the x-axis, and the plus-minus of a line on the y-axis."
   ]
  },
  {
   "cell_type": "markdown",
   "id": "c8ad2150-fa78-40f1-b87c-ff515a556e99",
   "metadata": {},
   "source": [
    "## Expected outcomes and significance:"
   ]
  },
  {
   "cell_type": "markdown",
   "id": "d532aa34-2aa6-45c1-b47b-be9633f0d1b3",
   "metadata": {},
   "source": [
    "During our project, we are expecting to find which one of our five predictors is the best at predicting the plus-minus of a line and therefore the overall effect the line has in a game. This information could give NBA Scouts and General Managers more insight into a player's performance and allow them to trade or draft players most beneficial to their team.\n",
    "Some future questions that may be asked after our initial question is answered are:\n",
    "\n",
    "Some future questions that may be asked after our inital question is answered are:\n",
    "\n",
    "- Is the Euroleague’s Performance Index Rating an accurate representation of the performance of a lineup in a game? It is used to scout and draft players in the Euroleague and with our initial question answered, we may be able to verify the accuracy of this index\n",
    "\n",
    "- Does this reflect the overall teamwork between players or is this a reflection of the individual skills of each player on a team? Answering this question can show the effect a single \"superstar\" player can have on a single lineup.\n"
   ]
  },
  {
   "cell_type": "code",
   "execution_count": null,
   "id": "4ca7c4b4-ff2c-4d3f-9000-34a61573e42c",
   "metadata": {},
   "outputs": [],
   "source": []
  }
 ],
 "metadata": {
  "kernelspec": {
   "display_name": "R",
   "language": "R",
   "name": "ir"
  },
  "language_info": {
   "codemirror_mode": "r",
   "file_extension": ".r",
   "mimetype": "text/x-r-source",
   "name": "R",
   "pygments_lexer": "r",
   "version": "4.1.3"
  }
 },
 "nbformat": 4,
 "nbformat_minor": 5
}
