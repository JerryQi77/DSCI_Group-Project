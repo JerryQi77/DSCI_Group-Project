{
 "cells": [
  {
   "cell_type": "markdown",
   "id": "296812ae-8771-43f2-b1bc-2bae329a6488",
   "metadata": {},
   "source": [
    "#Basketball Lineup Plus-minus Prediction \n"
   ]
  },
  {
   "cell_type": "markdown",
   "id": "eaa2fd86-f29d-4d77-9513-096c1f7c2f57",
   "metadata": {},
   "source": [
    "##### Kole Laviolette 72088131 Jerry Qi 73382533 Junru Chen 74767625"
   ]
  },
  {
   "cell_type": "markdown",
   "id": "a6033b05-c472-49fd-8bb1-d82e4845b573",
   "metadata": {},
   "source": [
    "## Introduction \n",
    "\n",
    "  In basketball, there is a statistic called the “plus-minus” (short-handed to “+/-”) that refers to the sum of all of the points scored while they were on the court, minus the sum of all the points they let the opposing team score. This statistic is a good quantifiable value for the overall effect of a line and it can be used to determine the best line for a team to play in a game.\n",
    "  \n",
    "  In our project, our group is trying to approximate the plus-minus of a certain line in a basketball game.\n",
    "\n",
    "  Our dataset contains the statistics of various NBA lineups. In every row of our dataset there are record observations for the following values:\n",
    "  \n",
    "TEAM (team names), GP (total games played), and average MIN (minutes played), PTS (points scored), FGM (field goals made), FGA (field goals attempted), FG% (hit rate of all shots), 3PM (number of 3-point shots made), 3PA (number of 3-point shots attempted), 3P% (hit rate of 3-point shots), FTM (number of free throws made), FTA (number of free throws attempted), FT% (hit rate of free throws), OREB (number of offensive rebounds), DREB (number of defensive rebounds), REB (total number of rebounds), AST (number of assists), TOV (number of turnovers), STL (times of getting the ball from opponents), BLK (times of rejecting the opponents’ shots), BLKA (number of shots rejected by opponents), PF (number of fouls), PFD (numebr of fouls by opponents), +/- (plus/minus).\n",
    "\n"
   ]
  },
  {
   "cell_type": "markdown",
   "id": "e3530180-96f6-42b9-bf98-31a4d6745ec7",
   "metadata": {},
   "source": [
    "## Preliminary exploratory data analysis\n",
    "text"
   ]
  },
  {
   "cell_type": "code",
   "execution_count": 28,
   "id": "c67cf1d6-7785-4945-a0ab-1b9b5c2eb6d3",
   "metadata": {},
   "outputs": [],
   "source": [
    "library(tidyverse)\n",
    "library(tidymodels)"
   ]
  },
  {
   "cell_type": "code",
   "execution_count": 29,
   "id": "5a8437c0-558c-46bd-85df-d3e3dc8b2a8f",
   "metadata": {},
   "outputs": [
    {
     "name": "stderr",
     "output_type": "stream",
     "text": [
      "\u001b[1mRows: \u001b[22m\u001b[34m250\u001b[39m \u001b[1mColumns: \u001b[22m\u001b[34m30\u001b[39m\n",
      "\u001b[36m──\u001b[39m \u001b[1mColumn specification\u001b[22m \u001b[36m────────────────────────────────────────────────────────\u001b[39m\n",
      "\u001b[1mDelimiter:\u001b[22m \",\"\n",
      "\u001b[31mchr\u001b[39m  (6): TEAM, First Player, Second Player, Third Player, Fourth Player, Fi...\n",
      "\u001b[32mdbl\u001b[39m (24): ...1, GP, MIN, PTS, FGM, FGA, FG%, 3PM, 3PA, 3P%, FTM, FTA, FT%, O...\n",
      "\n",
      "\u001b[36mℹ\u001b[39m Use `spec()` to retrieve the full column specification for this data.\n",
      "\u001b[36mℹ\u001b[39m Specify the column types or set `show_col_types = FALSE` to quiet this message.\n"
     ]
    }
   ],
   "source": [
    "lineup_stat <- read_csv(\"https://raw.githubusercontent.com/JerryQi77/DSCI_Group-Project/main/DSCI_Group_project?token=GHSAT0AAAAAABZQJWZPOUAKKT7OY7UAZ33IY2546GQ\")\n",
    "\n",
    "colnames(lineup_stat)[colnames(lineup_stat) == \"+/-\"] <- \"P_M\"\n",
    "colnames(lineup_stat)[colnames(lineup_stat) == \"FG%\"] <- \"FGP\"\n",
    "lineup_stat <- select(lineup_stat, GP:P_M)\n",
    "\n",
    "lineup_stat <- lineup_stat |>\n",
    "                 mutate(PIR = PTS + REB + AST + STL + BLK + PFD + FGM - FGA + FTM - FTA - TOV - BLKA - PF) |>\n",
    "                 mutate(TSP = PTS / ((2 * FGA) + (0.88 * FTA))) |>\n",
    "                 mutate(PPP = PTS / (FGA + (0.44 * FTA) + TOV))\n",
    "\n",
    "lineup_split <- initial_split(lineup_stat, prop = 0.75, strata = P_M)\n",
    "lineup_train <- training(lineup_split)\n",
    "lineup_test <- testing(lineup_split)\n",
    "\n",
    "pts_plot <- ggplot(lineup_train, aes(x = PTS, y = P_M)) + geom_point() +\n",
    "            xlab(\"Points\") + ylab(\"Plus Minus\") + theme(text = element_text(size=16))\n",
    "\n",
    "fgp_plot <- ggplot(lineup_train, aes(x = FGP, y = P_M)) + geom_point() +\n",
    "            xlab(\"Field Goals Percentage\") + ylab(\"Plus Minus\") + theme(text = element_text(size=16))\n",
    "\n",
    "pir_plot <- ggplot(lineup_train, aes(x = PIR, y = P_M)) + geom_point() +\n",
    "            xlab(\"Performance index rating\") + ylab(\"Plus Minus\") + theme(text = element_text(size=16))\n",
    "\n",
    "tsp_plot <- ggplot(lineup_train, aes(x = TSP, y = P_M)) + geom_point() +\n",
    "            xlab(\"True Shooting Percentage\") + ylab(\"Plus Minus\") + theme(text = element_text(size=16))\n",
    "\n",
    "tsp_plot <- ggplot(lineup_train, aes(x = PPP, y = P_M)) + geom_point() +\n",
    "            xlab(\"Points per possession\") + ylab(\"Plus Minus\") + theme(text = element_text(size=16))"
   ]
  },
  {
   "cell_type": "markdown",
   "id": "cc946b46-9cf6-4643-8d81-c90c3799f13d",
   "metadata": {},
   "source": [
    "## Methods\n"
   ]
  },
  {
   "cell_type": "markdown",
   "id": "c8ad2150-fa78-40f1-b87c-ff515a556e99",
   "metadata": {},
   "source": [
    "## Expected outcomes and significance:"
   ]
  },
  {
   "cell_type": "code",
   "execution_count": null,
   "id": "7b126c7a-ebe0-4190-a84e-20a3afd7b6b4",
   "metadata": {},
   "outputs": [],
   "source": []
  }
 ],
 "metadata": {
  "kernelspec": {
   "display_name": "R",
   "language": "R",
   "name": "ir"
  },
  "language_info": {
   "codemirror_mode": "r",
   "file_extension": ".r",
   "mimetype": "text/x-r-source",
   "name": "R",
   "pygments_lexer": "r",
   "version": "4.1.3"
  }
 },
 "nbformat": 4,
 "nbformat_minor": 5
}
